{
  "nbformat": 4,
  "nbformat_minor": 0,
  "metadata": {
    "colab": {
      "provenance": [],
      "include_colab_link": true
    },
    "kernelspec": {
      "name": "python3",
      "display_name": "Python 3"
    },
    "language_info": {
      "name": "python"
    }
  },
  "cells": [
    {
      "cell_type": "markdown",
      "metadata": {
        "id": "view-in-github",
        "colab_type": "text"
      },
      "source": [
        "<a href=\"https://colab.research.google.com/github/Ruochenge/learning_test/blob/main/SAGE.ipynb\" target=\"_parent\"><img src=\"https://colab.research.google.com/assets/colab-badge.svg\" alt=\"Open In Colab\"/></a>"
      ]
    },
    {
      "cell_type": "markdown",
      "source": [
        "## Overview\n",
        "\n",
        "This Python script modifies a SAGE  configuration JSON file to tailor it to specific parameters for proteomic analysis. The program reads an existing configuration file, updates it with user-specified parameters, and writes the modified configuration to a new JSON file. This process ensures that the analysis settings are customised for particular experimental conditions and requirements.\n",
        "\n",
        "## Functionality\n",
        "\n",
        "The main functionality is encapsulated in the `get_sage_config` function, which performs the following steps:\n",
        "\n",
        "1. **Load Existing Configuration**: Reads the original SAGE configuration JSON file.\n",
        "2. **Update Configuration**: Modifies the configuration with user-specified parameters such as:\n",
        "    - Paths to mzML files\n",
        "    - Variable and static modifications\n",
        "    - Missed cleavages\n",
        "    - Enzyme options (restrictions, C-terminal cleavage, semi-enzymatic digestion)\n",
        "    - Fragment tolerance settings\n",
        "3. **Save Modified Configuration**: Writes the updated configuration to a new JSON file.\n",
        "\n",
        "## Parameters\n",
        "\n",
        "The script allows the user to specify a variety of parameters to customise the proteomic analysis:\n",
        "\n",
        "- **mzML File Paths**: Paths to the mzML files containing mass spectrometry data.\n",
        "- **Variable Modifications**: Modifications that can occur on amino acids during the analysis.\n",
        "- **Static Modifications**: Fixed modifications on amino acids.\n",
        "- **Missed Cleavages**: The maximum number of cleavages missed by the enzyme.\n",
        "- **Enzyme Restrictions**: Options to restrict cleavage after specific amino acids, enable C-terminal cleavage, and allow semi-enzymatic digestion.\n",
        "- **Fragment Tolerance**: Settings for fragment mass tolerance in the analysis.\n",
        "\n",
        "\n",
        "##[Online documentation](https://sage-docs.vercel.app/docs)\n",
        "\n",
        "\n",
        "**Precursor Tolerance**:\n",
        "This parameters specifices whether an absolute (\"da\") or relative (\"ppm\") tolerance is used for selecting candidate matches. Sage applies the \"left\" side of the tolerance to the experimental mass - this means that typical open-searches (i.e looking for a positive delta mass arising from a chemical modification) will want to use a large negative value here. Using the above configuration, an MS2 spectrum with a 2700 Da precursor mass would search for candidate peptides with a mass between 2200 and 2800 Da.\n",
        "\n",
        "\"Closed search\" : \"ppm\": [-20, 20]\n",
        "\n",
        "\"Open search\" : \"da\": [-500, 300]\n",
        "\n",
        "**Modifications**:\n",
        "Modification Syntax:\n",
        "*   \"^X\": Modification to be applied to amino acid X if it appears at the N-terminus of a peptide\n",
        "*   \"$X\": Modification to be applied to amino acid X if it appears at the C-terminus of a peptide\n",
        "*   \"[X\": Modification to be applied to amino acid X if it appears at the N-terminus of a protein\n",
        "*   \"]X\": Modification to be applied to amino acid X if it appears at the C-terminus of a protein\n",
        "\n",
        "e.g.\n",
        "\n",
        "*   \"^\": 304.207 = N-terminal modification of 304.207\n",
        "*    \"$\": 49.2022 = C-terminal modification of 49.2022\n",
        "\n",
        "###Original paper\n",
        "\n",
        "\n",
        "*   [Sage: An Open-Source Tool for Fast Proteomics Searching and Quantification at Scale](https://pubs.acs.org/doi/full/10.1021/acs.jproteome.3c00486)  (paper)\n",
        "* [Proteomics searching so fast it seems like Magic](https://lazear.github.io/sage/) (additional documentation)\n",
        "*   [YouTube link](https://www.youtube.com/watch?v=1rG-ZE3Z0Xc)\n",
        "\n"
      ],
      "metadata": {
        "id": "cFv20GcB9rhy"
      }
    },
    {
      "cell_type": "markdown",
      "source": [
        "#SAGE"
      ],
      "metadata": {
        "id": "b6oYNQoIHi2r"
      }
    },
    {
      "cell_type": "code",
      "source": [
        "#@markdown Mount google drive\n",
        "from google.colab import drive\n",
        "drive.mount('/content/drive')\n",
        "from sys import version_info\n",
        "python_version = f\"{version_info.major}.{version_info.minor}\""
      ],
      "metadata": {
        "id": "LnmbMelHg9Kk",
        "colab": {
          "base_uri": "https://localhost:8080/"
        },
        "outputId": "558b147d-104b-4ac4-804f-b5a54dc53cea"
      },
      "execution_count": null,
      "outputs": [
        {
          "output_type": "stream",
          "name": "stdout",
          "text": [
            "Mounted at /content/drive\n"
          ]
        }
      ]
    },
    {
      "cell_type": "markdown",
      "source": [
        "# Conda\n",
        "Install conda and restart runtime automatically for Sage (wait for 1 min)bold text"
      ],
      "metadata": {
        "id": "I6SEt1wdHkil"
      }
    },
    {
      "cell_type": "code",
      "execution_count": null,
      "metadata": {
        "id": "5xDGoRWGHcSA",
        "colab": {
          "base_uri": "https://localhost:8080/"
        },
        "outputId": "7f023d08-f88f-4600-8be2-41d49f5c5d8d"
      },
      "outputs": [
        {
          "output_type": "stream",
          "name": "stdout",
          "text": [
            "\u001b[33mWARNING: Running pip as the 'root' user can result in broken permissions and conflicting behaviour with the system package manager. It is recommended to use a virtual environment instead: https://pip.pypa.io/warnings/venv\u001b[0m\u001b[33m\n",
            "\u001b[0m✨🍰✨ Everything looks OK!\n"
          ]
        }
      ],
      "source": [
        "#install conda, kernel will be restarted automatically\n",
        "!pip install -q condacolab\n",
        "import condacolab\n",
        "import time\n",
        "\n",
        "condacolab.install()\n",
        "time.sleep(10)"
      ]
    },
    {
      "cell_type": "markdown",
      "source": [
        "##Install sage"
      ],
      "metadata": {
        "id": "zgAyVXd4HuQ_"
      }
    },
    {
      "cell_type": "code",
      "source": [
        "# Check if conda is working\n",
        "condacolab.check()#check conda is working\n"
      ],
      "metadata": {
        "id": "z2_xq6zTHja3",
        "colab": {
          "base_uri": "https://localhost:8080/"
        },
        "outputId": "033534cc-b45c-415f-80ca-f8d9644075fc"
      },
      "execution_count": null,
      "outputs": [
        {
          "output_type": "stream",
          "name": "stdout",
          "text": [
            "✨🍰✨ Everything looks OK!\n"
          ]
        }
      ]
    },
    {
      "cell_type": "code",
      "source": [
        "!conda install -c bioconda -c conda-forge sage-proteomics"
      ],
      "metadata": {
        "id": "h7Va7WOzHhmz",
        "colab": {
          "base_uri": "https://localhost:8080/"
        },
        "outputId": "9bed74d8-5e7e-452f-80eb-2ee95df78cf6",
        "collapsed": true
      },
      "execution_count": null,
      "outputs": [
        {
          "output_type": "stream",
          "name": "stdout",
          "text": [
            "Channels:\n",
            " - bioconda\n",
            " - conda-forge\n",
            "Platform: linux-64\n",
            "Collecting package metadata (repodata.json): - \b\b\\ \b\b| \b\b/ \b\b- \b\b\\ \b\b| \b\b/ \b\b- \b\b\\ \b\b| \b\b/ \b\b- \b\b\\ \b\b| \b\b/ \b\b- \b\b\\ \b\b| \b\b/ \b\b- \b\b\\ \b\b| \b\b/ \b\b- \b\b\\ \b\b| \b\b/ \b\b- \b\b\\ \b\b| \b\b/ \b\b- \b\b\\ \b\b| \b\b/ \b\b- \b\b\\ \b\b| \b\b/ \b\b- \b\b\\ \b\b| \b\b/ \b\b- \b\b\\ \b\b| \b\b/ \b\b- \b\b\\ \b\b| \b\b/ \b\b- \b\b\\ \b\b| \b\b/ \b\b- \b\b\\ \b\b| \b\b/ \b\b- \b\b\\ \b\b| \b\b/ \b\b- \b\b\\ \b\b| \b\b/ \b\b- \b\b\\ \b\b| \b\b/ \b\b- \b\b\\ \b\b| \b\b/ \b\b- \b\b\\ \b\b| \b\b/ \b\b- \b\b\\ \b\b| \b\b/ \b\b- \b\b\\ \b\b| \b\b/ \b\b- \b\b\\ \b\b| \b\b/ \b\b- \b\b\\ \b\b| \b\b/ \b\b- \b\b\\ \b\b| \b\b/ \b\b- \b\b\\ \b\b| \b\b/ \b\b- \b\b\\ \b\b| \b\b/ \b\b- \b\b\\ \b\b| \b\b/ \b\b- \b\b\\ \b\b| \b\b/ \b\b- \b\b\\ \b\b| \b\b/ \b\b- \b\b\\ \b\b| \b\b/ \b\b- \b\b\\ \b\b| \b\b/ \b\b- \b\b\\ \b\b| \b\b/ \b\b- \b\b\\ \b\b| \b\b/ \b\b- \b\b\\ \b\b| \b\b/ \b\b- \b\b\\ \b\b| \b\b/ \b\b- \b\b\\ \b\b| \b\b/ \b\b- \b\b\\ \b\b| \b\b/ \b\b- \b\b\\ \b\b| \b\b/ \b\b- \b\b\\ \b\b| \b\b/ \b\b- \b\b\\ \b\b| \b\b/ \b\b- \b\b\\ \b\b| \b\b/ \b\b- \b\b\\ \b\b| \b\b/ \b\b- \b\b\\ \b\b| \b\b/ \b\b- \b\b\\ \b\b| \b\b/ \b\b- \b\b\\ \b\b| \b\b/ \b\b- \b\b\\ \b\b| \b\b/ \b\b- \b\b\\ \b\b| \b\b/ \b\b- \b\b\\ \b\b| \b\b/ \b\b- \b\b\\ \b\b| \b\b/ \b\b- \b\b\\ \b\b| \b\b/ \b\b- \b\b\\ \b\b| \b\b/ \b\b- \b\b\\ \b\b| \b\b/ \b\b- \b\b\\ \b\b| \b\b/ \b\b- \b\b\\ \b\b| \b\b/ \b\b- \b\b\\ \b\b| \b\b/ \b\b- \b\b\\ \b\b| \b\b/ \b\b- \b\b\\ \b\b| \b\b/ \b\b- \b\b\\ \b\b| \b\b/ \b\b- \b\b\\ \b\b| \b\b/ \b\b- \b\bdone\n",
            "Solving environment: | \b\b/ \b\b- \b\bdone\n",
            "\n",
            "\n",
            "==> WARNING: A newer version of conda exists. <==\n",
            "    current version: 23.11.0\n",
            "    latest version: 24.5.0\n",
            "\n",
            "Please update conda by running\n",
            "\n",
            "    $ conda update -n base -c conda-forge conda\n",
            "\n",
            "\n",
            "\n",
            "## Package Plan ##\n",
            "\n",
            "  environment location: /usr/local\n",
            "\n",
            "  added / updated specs:\n",
            "    - sage-proteomics\n",
            "\n",
            "\n",
            "The following packages will be downloaded:\n",
            "\n",
            "    package                    |            build\n",
            "    ---------------------------|-----------------\n",
            "    ca-certificates-2024.2.2   |       hbcca054_0         152 KB  conda-forge\n",
            "    certifi-2024.2.2           |     pyhd8ed1ab_0         157 KB  conda-forge\n",
            "    openssl-3.3.0              |       h4ab18f5_3         2.8 MB  conda-forge\n",
            "    sage-proteomics-0.14.7     |       h031d066_0         7.8 MB  bioconda\n",
            "    ------------------------------------------------------------\n",
            "                                           Total:        10.8 MB\n",
            "\n",
            "The following NEW packages will be INSTALLED:\n",
            "\n",
            "  sage-proteomics    bioconda/linux-64::sage-proteomics-0.14.7-h031d066_0 \n",
            "\n",
            "The following packages will be UPDATED:\n",
            "\n",
            "  ca-certificates                     2023.11.17-hbcca054_0 --> 2024.2.2-hbcca054_0 \n",
            "  certifi                           2023.11.17-pyhd8ed1ab_0 --> 2024.2.2-pyhd8ed1ab_0 \n",
            "  openssl                                  3.2.0-hd590300_1 --> 3.3.0-h4ab18f5_3 \n",
            "\n",
            "\n",
            "\n",
            "Downloading and Extracting Packages:\n",
            "sage-proteomics-0.14 | 7.8 MB    | :   0% 0/1 [00:00<?, ?it/s]\n",
            "openssl-3.3.0        | 2.8 MB    | :   0% 0/1 [00:00<?, ?it/s]\u001b[A\n",
            "\n",
            "certifi-2024.2.2     | 157 KB    | :   0% 0/1 [00:00<?, ?it/s]\u001b[A\u001b[A\n",
            "\n",
            "\n",
            "ca-certificates-2024 | 152 KB    | :   0% 0/1 [00:00<?, ?it/s]\u001b[A\u001b[A\u001b[A\n",
            "\n",
            "\n",
            "ca-certificates-2024 | 152 KB    | :  11% 0.10540943949765814/1 [00:00<00:00,  1.04it/s]\u001b[A\u001b[A\u001b[A\n",
            "openssl-3.3.0        | 2.8 MB    | :   1% 0.005666955018198659/1 [00:00<00:20, 20.17s/it]\u001b[A\n",
            "\n",
            "sage-proteomics-0.14 | 7.8 MB    | :   0% 0.002014690616366951/1 [00:00<01:06, 66.95s/it]\n",
            "\n",
            "\n",
            "ca-certificates-2024 | 152 KB    | : 100% 1.0/1 [00:00<00:00,  1.04it/s]                \u001b[A\u001b[A\u001b[A\n",
            "\n",
            "sage-proteomics-0.14 | 7.8 MB    | :  63% 0.6326128535392227/1 [00:00<00:00,  3.25it/s]  \n",
            "openssl-3.3.0        | 2.8 MB    | : 100% 1.0/1 [00:00<00:00,  2.68it/s]                 \u001b[A\n",
            "                                                                        \n",
            "                                                                        \u001b[A\n",
            "\n",
            "                                                                        \u001b[A\u001b[A\n",
            "\n",
            "\n",
            "                                                                        \u001b[A\u001b[A\u001b[A\n",
            "Preparing transaction: | \b\bdone\n",
            "Verifying transaction: - \b\b\\ \b\bdone\n",
            "Executing transaction: / \b\b- \b\b\\ \b\b| \b\b/ \b\b- \b\bdone\n"
          ]
        }
      ]
    },
    {
      "cell_type": "code",
      "source": [
        "#!sage --help"
      ],
      "metadata": {
        "id": "jlk99E4vH6ew"
      },
      "execution_count": null,
      "outputs": []
    },
    {
      "cell_type": "markdown",
      "source": [
        "# Sage configuration (updating peak lists)\n",
        "\n",
        "\n"
      ],
      "metadata": {
        "id": "6Fj0raS-H-m8"
      }
    },
    {
      "cell_type": "markdown",
      "source": [
        "##Functions"
      ],
      "metadata": {
        "id": "RL-iwc9N73bS"
      }
    },
    {
      "cell_type": "code",
      "source": [
        "import json\n",
        "import glob\n",
        "import os\n",
        "import re\n",
        "from datetime import datetime\n",
        "import subprocess\n",
        "\n",
        "def ensure_dir_exists(path):\n",
        "    \"\"\"Ensure that the directory for the given path exists.\"\"\"\n",
        "    directory = os.path.dirname(path)\n",
        "    if os.path.exists(directory):\n",
        "        if not os.path.isdir(directory):\n",
        "            raise NotADirectoryError(f\"The path {directory} is not a directory.\")\n",
        "    else:\n",
        "        os.makedirs(directory)\n",
        "\n",
        "def get_sage_config(json_file_path, peak_folder, new_mods, missed_cleavages, static_mod, output_config_path, restrict=None, c_terminal=True, semi_enzymatic=None, fragment_tol=None):\n",
        "    \"\"\"\n",
        "    Reads a SAGE configuration JSON file, updates specified options, and writes the modified\n",
        "    configuration to a new file. Also prints summaries of the configuration for easier inspection.\n",
        "\n",
        "    Args:\n",
        "        json_file_path (str): Path to the original SAGE configuration JSON file.\n",
        "        peak_folder (str): Path to the folder containing mzML files (glob pattern supported).\n",
        "        new_mods (dict): Dictionary of variable modifications for the analysis.\n",
        "            Keys are amino acids, values are lists of mass shifts.\n",
        "        missed_cleavages (int): Maximum number of missed cleavages allowed.\n",
        "        static_mod (dict): Dictionary of static modifications for the analysis.\n",
        "            Keys are amino acids, values are mass shifts.\n",
        "        output_config_path (str): Path to save the modified SAGE configuration JSON file.\n",
        "        restrict (str, optional): Amino acid to restrict cleavage after. Defaults to None (no restriction).\n",
        "        c_terminal (bool, optional): Allow C-terminal cleavage. Defaults to True.\n",
        "        semi_enzymatic (bool, optional): Enable semi-enzymatic digestion. Defaults to None (full enzymatic).\n",
        "        fragment_tol (dict, optional): Dictionary specifying fragment tolerance settings. Defaults to None.\n",
        "\n",
        "    Returns:\n",
        "        dict: The modified JSON data.\n",
        "    \"\"\"\n",
        "    # Ensure the output directory exists\n",
        "    ensure_dir_exists(output_config_path)\n",
        "\n",
        "    # Load the existing configuration\n",
        "    with open(json_file_path, 'r') as file:\n",
        "        json_data = json.load(file)\n",
        "\n",
        "    # # Update configuration with provided arguments\n",
        "    # json_data['mzml_paths'] = glob.glob(peak_folder)\n",
        "    # json_data['database']['variable_mods'] = new_mods\n",
        "    # json_data['database']['enzyme']['missed_cleavages'] = missed_cleavages\n",
        "    # json_data['database']['static_mods'] = static_mod\n",
        "\n",
        "    # # Update enzyme options if provided\n",
        "    # if restrict is not None:\n",
        "    #     json_data['database']['enzyme']['restrict'] = restrict\n",
        "    # if c_terminal is not None:\n",
        "    #     json_data['database']['enzyme']['c_terminal'] = c_terminal\n",
        "    # if semi_enzymatic is not None:\n",
        "    #     json_data['database']['enzyme']['semi_enzymatic'] = semi_enzymatic\n",
        "\n",
        "    # # Update fragment tolerance if provided\n",
        "    # if fragment_tol is not None:\n",
        "    #     json_data['fragment_tol'] = fragment_tol\n",
        "\n",
        "    # # Save the modified configuration to a new file\n",
        "    # with open(output_config_path, 'w') as f:\n",
        "    #     json.dump(json_data, f, indent=4)\n",
        "\n",
        "    # return json_data\n",
        "\n",
        "def save_log_info(SAGE_log_info, file_path):\n",
        "    \"\"\"Saves the log information to a text file and prints it.\"\"\"\n",
        "    # Ensure the output directory exists\n",
        "    ensure_dir_exists(file_path)\n",
        "\n",
        "    with open(file_path, 'w') as SAGE_log_file:\n",
        "        for line in SAGE_log_info:\n",
        "            # Remove ANSI escape sequences\n",
        "            cleaned_line = re.sub(r'\\x1B(?:[@-Z\\\\-_]|\\[[0-?]*[ -/]*[@-~])', '', line)\n",
        "            SAGE_log_file.write(cleaned_line + '\\n')\n",
        "\n",
        "def run_sage_command(json_file_path, FASTA_file_path, output_config_path):\n",
        "    \"\"\"Runs the SAGE command and captures the output.\"\"\"\n",
        "    # Construct the SAGE command dynamically\n",
        "    sage_command = [\n",
        "        \"sage\",\n",
        "        json_file_path,\n",
        "        \"--fasta\", FASTA_file_path,\n",
        "        \"--write-pin\", output_config_path\n",
        "    ]\n",
        "\n",
        "    # Run the SAGE command and capture the output\n",
        "    result = subprocess.run(sage_command, capture_output=True, text=True)\n",
        "\n",
        "    # Combine stdout and stderr\n",
        "    captured_output = result.stdout + result.stderr\n",
        "\n",
        "    # Convert captured output to a list of lines\n",
        "    captured_output_lines = captured_output.splitlines()\n",
        "\n",
        "    # Print the command output for debugging purposes\n",
        "    print(\"\\nSAGE Command Output:\\n\")\n",
        "    print(result.stdout)\n",
        "    print(result.stderr)\n",
        "\n",
        "    return captured_output_lines\n",
        "\n",
        "# def filter_log_info(captured_output_lines):\n",
        "#     \"\"\"Filters out the JSON part from the captured output.\"\"\"\n",
        "#     return [line for line in captured_output_lines if not (line.startswith('{') or line.endswith('}') or line.strip().startswith('\"'))]\n"
      ],
      "metadata": {
        "id": "7Ov6jDiXEP4q"
      },
      "execution_count": null,
      "outputs": []
    },
    {
      "cell_type": "markdown",
      "source": [
        "##Inputs"
      ],
      "metadata": {
        "id": "spGtBybO8qQh"
      }
    },
    {
      "cell_type": "code",
      "source": [
        "#@title File details\n",
        "\n",
        "#@markdown **SAGE input single file**\n",
        "mzML_file = \"\\\"/content/drive/Shareddrives/MS_data/mzML/Parchment/Calf_mzml/20171204_QE3_nLC7_MEM_COLLAB_SD_UofY_JSK08_2.mzML\" #@param {type:\"string\"}\n",
        "#@markdown **SAGE directory**\n",
        "mzML_folder = \"/content/drive/Shareddrives/MS_data/mzML/Parchment/Calf_mzml/*.mzML\" #@param {type:\"string\"}\n",
        "\n",
        "output_config_path = \"/content/drive/MyDrive/Colab_Notebooks/MS_output/SAGE/CALF/config_modified.json\" #@param {type:\"string\"}\n",
        "#@markdown - a `.mztab` output from SAGE\n",
        "json_file_path = '/content/drive/MyDrive/Colab_Notebooks/MS_output/SAGE/config_COW_basic_sage.json' #@param {type:\"string\"}\n",
        "#@markdown - the `.json` configuration file for SAGE\n",
        "FASTA_file_path = '/content/drive/MyDrive/Colab_Notebooks/Dictionaries/FASTA_dicts/FASTA/Species/Cow.fasta' #@param {type:\"string\"}\n",
        "\n",
        "peak_folder = \"/content/drive/Shareddrives/MS_Palaeome/Odense_RAWs/23_Apr_2024/mzML/BS/*.mzML\""
      ],
      "metadata": {
        "cellView": "form",
        "id": "jBjVbGHCEXFv"
      },
      "execution_count": null,
      "outputs": []
    },
    {
      "cell_type": "code",
      "source": [
        "#@title ###Edit json file\n",
        "\n",
        "# #Fragment Index Construction\n",
        "semi_enzymatic = False\n",
        "restrict = None  # No restriction\n",
        "c_terminal = True  #  Boolean. Cleave at the C-terminus of matching amino acids (default:true).\n",
        "\n",
        "# Define fragment tolerance for open search  ~ -500,100 suggested in the manual\n",
        "fragment_tol = {\n",
        "    \"da\": [\n",
        "        -100,\n",
        "        300\n",
        "        ]\n",
        "}\n",
        "# Define variable modifications (replace with your modifications)\n",
        "variable_mods = {\n",
        "    \"K\": [\n",
        "        15.9949,\n",
        "        27.9949,\n",
        "        162.1406\n",
        "        ],\n",
        "    \"C\": [\n",
        "        57.0215\n",
        "        ],\n",
        "    \"^\": [\n",
        "        27.994915,\n",
        "        43.005814,\n",
        "        87.03203,\n",
        "        100.016045\n",
        "        ],\n",
        "    \"N\": [\n",
        "        0.98402\n",
        "        ],\n",
        "    \"^E\": [\n",
        "        -17.026548\n",
        "        ],\n",
        "    \"M\": [\n",
        "        15.9949\n",
        "        ],\n",
        "    \"P\": [\n",
        "        13.9793,\n",
        "        15.9949,\n",
        "        16.9902\n",
        "        ],\n",
        "    \"Q\": [\n",
        "        0.984016\n",
        "        ],\n",
        "    \"A\": [\n",
        "        58.0055\n",
        "        ],\n",
        "    \"^Q\": [\n",
        "        -17.02655\n",
        "        ]\n",
        "}\n",
        "\n",
        "# static_mods = {\n",
        "#     \"C\":\n",
        "#     0\n",
        "# }\n",
        "\n",
        "missed_cleavages = 2"
      ],
      "metadata": {
        "id": "pisz4RKmGiox"
      },
      "execution_count": null,
      "outputs": []
    },
    {
      "cell_type": "markdown",
      "source": [
        "#Run Sage"
      ],
      "metadata": {
        "id": "Q6QKChc4CYgu"
      }
    },
    {
      "cell_type": "code",
      "source": [
        "# # Call the function with example arguments (paths should be adjusted to your environment)\n",
        "# json_data = get_sage_config(json_file_path, mzML_folder, variable_mods, missed_cleavages, static_mods, output_config_path, restrict=restrict, c_terminal=c_terminal, semi_enzymatic=semi_enzymatic, fragment_tol=fragment_tol)\n",
        "\n",
        "# # Verify the saved JSON data\n",
        "# with open(output_config_path, 'r') as f:\n",
        "#     saved_json_data = json.load(f)\n",
        "#     print(\"Saved JSON data:\")\n",
        "#     print(json.dumps(saved_json_data, indent=4))\n",
        "\n",
        "\n",
        "# Run the SAGE command and capture the output\n",
        "captured_output_lines = run_sage_command(json_file_path, FASTA_file_path, output_config_path)\n",
        "\n",
        "\n",
        "# Define log information and the file path for saving logs\n",
        "SAGE_log_info = captured_output_lines\n",
        "current_time = datetime.now().strftime('%Y%m%d_%H%M%S')\n",
        "log_file_path = f\"/content/drive/MyDrive/Colab_Notebooks/MS_output/SAGE/CALF/SAGE_log_info_{current_time}.txt\"\n",
        "\n",
        "# Save log information to the text file with the new filename\n",
        "save_log_info(SAGE_log_info, log_file_path)\n",
        "\n",
        "print(f\"Log information saved to: {log_file_path}\")"
      ],
      "metadata": {
        "colab": {
          "base_uri": "https://localhost:8080/"
        },
        "id": "044AY68KGxCG",
        "outputId": "80ed74fd-3d0e-47a6-99b3-7e7cd83f1b50"
      },
      "execution_count": null,
      "outputs": [
        {
          "output_type": "stream",
          "name": "stdout",
          "text": [
            "\n",
            "SAGE Command Output:\n",
            "\n",
            "\n",
            "Error: Failed to read parameters from `/content/drive/MyDrive/Colab_Notebooks/MS_output/SAGE/config_COW_basic_sage.json`\n",
            "\n",
            "Caused by:\n",
            "    expected `,` or `}` at line 70 column 3\n",
            "\n",
            "Log information saved to: /content/drive/MyDrive/Colab_Notebooks/MS_output/SAGE/CALF/SAGE_log_info_20240601_184236.txt\n"
          ]
        }
      ]
    },
    {
      "cell_type": "code",
      "source": [
        "# Open the saved file for reading\n",
        "with open(log_file_path, 'r') as SAGE_log_file:\n",
        "  saved_log_content = SAGE_log_file.read()\n",
        "\n",
        "# Print the saved log content\n",
        "print(\"Saved log information:\")\n",
        "print(saved_log_content)"
      ],
      "metadata": {
        "colab": {
          "base_uri": "https://localhost:8080/"
        },
        "id": "uaBOp1NlzCNU",
        "outputId": "d863514a-381c-4ec6-bb79-43ef7fe30cad"
      },
      "execution_count": null,
      "outputs": [
        {
          "output_type": "stream",
          "name": "stdout",
          "text": [
            "Saved log information:\n",
            "[2024-06-01T18:29:58Z WARN  sage::input] Tolerances are applied to experimental masses, not theoretical: [-100, 500]\n",
            "\n"
          ]
        }
      ]
    },
    {
      "cell_type": "code",
      "source": [
        "!sage /content/drive/MyDrive/Colab_Notebooks/MS_output/SAGE/config_COW_sage.json > output.tsv"
      ],
      "metadata": {
        "colab": {
          "base_uri": "https://localhost:8080/"
        },
        "id": "HkDLfuDjjY-Y",
        "outputId": "0a82cbc8-1cc2-49a5-da3a-3df736f016e1"
      },
      "execution_count": null,
      "outputs": [
        {
          "output_type": "stream",
          "name": "stdout",
          "text": [
            "\u001b[0m\u001b[38;5;8m[\u001b[0m2024-06-01T13:54:28Z \u001b[0m\u001b[32mINFO \u001b[0m sage\u001b[0m\u001b[38;5;8m]\u001b[0m generated 1833501 fragments, 55151 peptides in 222ms\n",
            "\u001b[0m\u001b[38;5;8m[\u001b[0m2024-06-01T13:54:28Z \u001b[0m\u001b[32mINFO \u001b[0m sage\u001b[0m\u001b[38;5;8m]\u001b[0m processing files 0 .. 1 \n",
            "\u001b[0m\u001b[38;5;8m[\u001b[0m2024-06-01T13:54:35Z \u001b[0m\u001b[32mINFO \u001b[0m sage\u001b[0m\u001b[38;5;8m]\u001b[0m - file IO:     7210 ms\n",
            "\u001b[0m\u001b[38;5;8m[\u001b[0m2024-06-01T13:54:40Z \u001b[0m\u001b[32mINFO \u001b[0m sage\u001b[0m\u001b[38;5;8m]\u001b[0m - search:      5612 ms (4468 spectra/s)\n",
            "\u001b[0m\u001b[38;5;8m[\u001b[0m2024-06-01T13:54:41Z \u001b[0m\u001b[32mINFO \u001b[0m sage_core::ml::retention_alignment\u001b[0m\u001b[38;5;8m]\u001b[0m aligning file #0: y = 1.0000x + 0.0000\n",
            "\u001b[0m\u001b[38;5;8m[\u001b[0m2024-06-01T13:54:41Z \u001b[0m\u001b[32mINFO \u001b[0m sage_core::ml::retention_alignment\u001b[0m\u001b[38;5;8m]\u001b[0m aligned retention times across 1 files\n",
            "\u001b[0m\u001b[38;5;8m[\u001b[0m2024-06-01T13:54:41Z \u001b[0m\u001b[32mINFO \u001b[0m sage_core::ml::retention_model\u001b[0m\u001b[38;5;8m]\u001b[0m - fit retention time model, rsq = 0.5496721640157476\n",
            "\u001b[0m\u001b[38;5;8m[\u001b[0m2024-06-01T13:54:41Z \u001b[0m\u001b[32mINFO \u001b[0m sage_core::ml::mobility_model\u001b[0m\u001b[38;5;8m]\u001b[0m - fit mobility model, rsq = NaN, mse = 0\n",
            "\u001b[0m\u001b[38;5;8m[\u001b[0m2024-06-01T13:54:41Z \u001b[0m\u001b[33mWARN \u001b[0m sage\u001b[0m\u001b[38;5;8m]\u001b[0m linear model fitting failed, falling back to heuristic discriminant score\n",
            "\u001b[0m\u001b[38;5;8m[\u001b[0m2024-06-01T13:54:41Z \u001b[0m\u001b[32mINFO \u001b[0m sage\u001b[0m\u001b[38;5;8m]\u001b[0m discovered 2384 target peptide-spectrum matches at 1% FDR\n",
            "\u001b[0m\u001b[38;5;8m[\u001b[0m2024-06-01T13:54:41Z \u001b[0m\u001b[32mINFO \u001b[0m sage\u001b[0m\u001b[38;5;8m]\u001b[0m discovered 0 target peptides at 1% FDR\n",
            "\u001b[0m\u001b[38;5;8m[\u001b[0m2024-06-01T13:54:41Z \u001b[0m\u001b[32mINFO \u001b[0m sage\u001b[0m\u001b[38;5;8m]\u001b[0m discovered 0 target proteins at 1% FDR\n",
            "\u001b[0m\u001b[38;5;8m[\u001b[0m2024-06-01T13:54:41Z \u001b[0m\u001b[32mINFO \u001b[0m sage\u001b[0m\u001b[38;5;8m]\u001b[0m finished in 13s\n",
            "\u001b[0m\u001b[38;5;8m[\u001b[0m2024-06-01T13:54:41Z \u001b[0m\u001b[32mINFO \u001b[0m sage\u001b[0m\u001b[38;5;8m]\u001b[0m cite: \"Sage: An Open-Source Tool for Fast Proteomics Searching and Quantification at Scale\" https://doi.org/10.1021/acs.jproteome.3c00486\n"
          ]
        }
      ]
    },
    {
      "cell_type": "markdown",
      "source": [
        "#Run Sage in the shell"
      ],
      "metadata": {
        "id": "XT50c1QVIJLK"
      }
    },
    {
      "cell_type": "markdown",
      "source": [
        "#Sage clean"
      ],
      "metadata": {
        "id": "3NgwsCJeH1PL"
      }
    },
    {
      "cell_type": "markdown",
      "source": [
        "# Run Sage with a big fasta (>= 100k entries, @Yun's code)"
      ],
      "metadata": {
        "id": "NcFEhUhEIXz2"
      }
    },
    {
      "cell_type": "code",
      "source": [
        "# \"\"\"\n",
        "# run Sage and a fasta in batches (when a fasta >= 100k entries)\n",
        "# slices=integer (choose how many slices for an input fasta)\n",
        "# input_fasta=path to a fasta\n",
        "# input_json=path to a json configuration file\n",
        "# output_folder=a folder path to save outputs\n",
        "\n",
        "# \"\"\"\n",
        "\n",
        "# #Change inputs here\n",
        "# slices=5\n",
        "# input_fasta=\"/content/drive/MyDrive/active/orthrus_final/nature/nature_v1.fasta\"\n",
        "# input_json=\"/content/drive/MyDrive/active/orthrus_final/nature/modern_stool_841376/nature_gut_841376.json\"\n",
        "# output_folder=\"/content/drive/MyDrive/active/orthrus_final/nature/v1\"\n",
        "\n",
        "\n",
        "# #now click the play button to run the cell\n",
        "# import pandas as pd\n",
        "# import subprocess\n",
        "# from Bio.Seq import Seq\n",
        "# from Bio.SeqRecord import SeqRecord\n",
        "# from Bio import SeqIO\n",
        "\n",
        "\n",
        "\n",
        "# def run_DB_in_batches (slices, input_fasta, input_json, output_folder):\n",
        "\n",
        "#   records = []\n",
        "\n",
        "#   for record in SeqIO.parse(input_fasta, format=\"fasta\"):\n",
        "#     records.append(record)\n",
        "\n",
        "#   N = len(records) // slices + (len(records) % slices > 0)\n",
        "\n",
        "#   for i in range(slices):\n",
        "\n",
        "#     fasta_slice_path = f\"{output_folder}/input_fasta_slice_{i}.fasta\"\n",
        "\n",
        "#     with open(fasta_slice_path, \"w\") as f:\n",
        "#       for record in records[i * N : (i + 1) * N]:\n",
        "#         SeqIO.write(record, f, format=\"fasta\")\n",
        "\n",
        "#     cmd = [\n",
        "#         \"sage\",\n",
        "#         input_json,\n",
        "#         \"-o\",\n",
        "#         f\"{output_folder}/output_slice_{i}\",\n",
        "#         \"-f\",\n",
        "#         fasta_slice_path,\n",
        "#         \"--write-pin\"\n",
        "#     ]\n",
        "#     subprocess.run(cmd)\n",
        "\n",
        "#   dfs = []\n",
        "#   for i in range(slices):\n",
        "#     results_path = f\"{output_folder}/output_slice_{i}/results.sage.tsv\"\n",
        "#     dfs.append(pd.read_table(results_path))\n",
        "\n",
        "#   pd.concat(dfs).sort_values(by=\"hyperscore\", ascending=False).drop_duplicates(\n",
        "#     subset=[\"filename\", \"scannr\"], keep=\"first\").to_csv(f\"{output_folder}/combined.tsv\", sep=\"\\t\", index=False)\n",
        "\n",
        "\n",
        "\n",
        "# run_DB_in_batches (slices, input_fasta, input_json, output_folder)"
      ],
      "metadata": {
        "id": "wRA8UJu_IdZi"
      },
      "execution_count": null,
      "outputs": []
    },
    {
      "cell_type": "markdown",
      "source": [
        "##Clean Sage"
      ],
      "metadata": {
        "id": "-mdnf6RmImtX"
      }
    },
    {
      "cell_type": "code",
      "source": [
        "#clean sage output tsvs\n",
        "import pandas as pd\n",
        "def sage_clean (df):\n",
        "  s=df.copy()\n",
        "  s1=s.assign(decoy=s['proteins'].str.contains('rev', regex=False), seq_naked=s['peptide'].str.replace('\\[\\+[\\d\\.]+\\]', '', regex=True))\n",
        "  s2=s1[s1['decoy']==False]\n",
        "  return s2\n",
        "\n",
        "df=pd.read_table('/content/drive/MyDrive/active/PK4HJ1_RB1_1_14436/orthrus_results/results.sage.tsv')\n",
        "df1=sage_clean(df)"
      ],
      "metadata": {
        "id": "r-DuOXKHIrP0"
      },
      "execution_count": null,
      "outputs": []
    },
    {
      "cell_type": "code",
      "source": [
        "df1['proteins'].value_counts().head(50)"
      ],
      "metadata": {
        "id": "UYDR3Lk_Iukn"
      },
      "execution_count": null,
      "outputs": []
    },
    {
      "cell_type": "markdown",
      "source": [
        "#Mokapot"
      ],
      "metadata": {
        "id": "u6_jKbrRI0zK"
      }
    },
    {
      "cell_type": "code",
      "source": [
        "!pip install mokapot"
      ],
      "metadata": {
        "id": "WtBT3j2KI4TX"
      },
      "execution_count": null,
      "outputs": []
    },
    {
      "cell_type": "code",
      "source": [
        "import mokapot\n",
        "psms = mokapot.read_pin(\"/content/drive/MyDrive/active/PK4HJ1_RB1_1_14436/orthrus_results/results.sage.pin\")\n",
        "results, models = mokapot.brew(psms)\n",
        "results.to_txt(\"/content/drive/MyDrive/active/PK4HJ1_RB1_1_14436/orthrus_results\")"
      ],
      "metadata": {
        "id": "48ri9v3CIzvp"
      },
      "execution_count": null,
      "outputs": []
    },
    {
      "cell_type": "code",
      "source": [
        "import pandas as pd\n",
        "temp=pd.read_table('/content/drive/MyDrive/active/PK4HJ1_RB1_1_14436/orthrus_results/mokapot.psms.txt')\n",
        "temp['Proteins'].value_counts().head(50)"
      ],
      "metadata": {
        "id": "AgZHIZEjJCWt"
      },
      "execution_count": null,
      "outputs": []
    },
    {
      "cell_type": "code",
      "source": [
        "df1['proteins'].value_counts().head(15)"
      ],
      "metadata": {
        "id": "lpkX1BfJJHLH"
      },
      "execution_count": null,
      "outputs": []
    },
    {
      "cell_type": "code",
      "source": [
        "df2=df1[df1['spectrum_q']<=0.01]\n",
        "df2"
      ],
      "metadata": {
        "id": "0vorEhqeJLvm"
      },
      "execution_count": null,
      "outputs": []
    },
    {
      "cell_type": "code",
      "source": [
        "df2['proteins'].value_counts().head(40)"
      ],
      "metadata": {
        "id": "V-OB85zrJO_m"
      },
      "execution_count": null,
      "outputs": []
    },
    {
      "cell_type": "code",
      "source": [
        "def collect_all (files_path):\n",
        "  files=os.path.join(files_path, \"*.tsv\")\n",
        "  files=glob.glob(files)\n",
        "  c=pd.concat(map(pd.read_table, files), axis=0, ignore_index=True)\n",
        "  return c"
      ],
      "metadata": {
        "id": "EM0hMpJ2JU5c"
      },
      "execution_count": null,
      "outputs": []
    },
    {
      "cell_type": "code",
      "source": [
        "df2=collect_all('/content/drive/MyDrive/active/orthrus_final/orthrus_old/O_host/natureGut/ranked/n_tsvs')\n",
        "df3=sage_clean(df2)"
      ],
      "metadata": {
        "id": "vaPRfzYMJYMY"
      },
      "execution_count": null,
      "outputs": []
    },
    {
      "cell_type": "code",
      "source": [
        "df4=df3.sort_values(by=\"hyperscore\", ascending=False).drop_duplicates(subset=[\"filename\", \"scannr\"], keep=\"first\")"
      ],
      "metadata": {
        "id": "7BrhDj6HJbSL"
      },
      "execution_count": null,
      "outputs": []
    },
    {
      "cell_type": "code",
      "source": [
        "df5=df4[df4['spectrum_q']<=0.01]"
      ],
      "metadata": {
        "id": "v0Oy3VG0JeQ0"
      },
      "execution_count": null,
      "outputs": []
    },
    {
      "cell_type": "code",
      "source": [
        "df5"
      ],
      "metadata": {
        "id": "z_8Z-6fEJhT2"
      },
      "execution_count": null,
      "outputs": []
    },
    {
      "cell_type": "code",
      "source": [
        "df5['proteins'].value_counts().head(10)"
      ],
      "metadata": {
        "id": "2r5ea67uJl7Z"
      },
      "execution_count": null,
      "outputs": []
    },
    {
      "cell_type": "code",
      "source": [
        "t=pd.read_table('/content/drive/MyDrive/active/orthrus_final/orthrus_old/O_host/natureGut/gut_host_evidence.txt')\n",
        "t.columns"
      ],
      "metadata": {
        "id": "s8ZQ6ErvJpIJ"
      },
      "execution_count": null,
      "outputs": []
    }
  ]
}